{
 "cells": [
  {
   "attachments": {},
   "cell_type": "markdown",
   "metadata": {},
   "source": [
    "# Notebook for Pandas Practice \n",
    "\n",
    "**Load libraries**"
   ]
  },
  {
   "cell_type": "code",
   "execution_count": 48,
   "metadata": {},
   "outputs": [],
   "source": [
    "import pandas as pd\n",
    "import numpy as np\n",
    "import matplotlib.pyplot as plt\n",
    "import urllib \n",
    "import skimpy \n",
    "import os\n",
    "from myplot import myplot"
   ]
  },
  {
   "cell_type": "code",
   "execution_count": 37,
   "metadata": {},
   "outputs": [],
   "source": [
    "if not os.path.exists(\"data/\"): \n",
    "    os.mkdir(\"data/\")"
   ]
  },
  {
   "cell_type": "code",
   "execution_count": 38,
   "metadata": {},
   "outputs": [],
   "source": [
    "if not os.path.exists(\"data/discharge_timeseries.csv\"): \n",
    "    url = \"https://arcticdata.io/metacat/d1/mn/v2/object/urn%3Auuid%3Ae248467d-e1f9-4a32-9e38-a9b4fb17cefb\"\n",
    "    msg = urllib.request.urlretrieve(url, \"data/discharge_timeseries.csv\")"
   ]
  },
  {
   "cell_type": "code",
   "execution_count": 39,
   "metadata": {},
   "outputs": [
    {
     "data": {
      "text/html": [
       "<div>\n",
       "<style scoped>\n",
       "    .dataframe tbody tr th:only-of-type {\n",
       "        vertical-align: middle;\n",
       "    }\n",
       "\n",
       "    .dataframe tbody tr th {\n",
       "        vertical-align: top;\n",
       "    }\n",
       "\n",
       "    .dataframe thead th {\n",
       "        text-align: right;\n",
       "    }\n",
       "</style>\n",
       "<table border=\"1\" class=\"dataframe\">\n",
       "  <thead>\n",
       "    <tr style=\"text-align: right;\">\n",
       "      <th></th>\n",
       "      <th>Date</th>\n",
       "      <th>Total Pressure [m]</th>\n",
       "      <th>Air Pressure [m]</th>\n",
       "      <th>Stage [m]</th>\n",
       "      <th>Discharge [m3/s]</th>\n",
       "      <th>temperature [degrees C]</th>\n",
       "    </tr>\n",
       "  </thead>\n",
       "  <tbody>\n",
       "    <tr>\n",
       "      <th>0</th>\n",
       "      <td>6/13/2016 0:00</td>\n",
       "      <td>9.816</td>\n",
       "      <td>9.609775</td>\n",
       "      <td>0.206225</td>\n",
       "      <td>0.083531</td>\n",
       "      <td>-0.1</td>\n",
       "    </tr>\n",
       "    <tr>\n",
       "      <th>1</th>\n",
       "      <td>6/13/2016 0:05</td>\n",
       "      <td>9.810</td>\n",
       "      <td>9.609715</td>\n",
       "      <td>0.200285</td>\n",
       "      <td>0.077785</td>\n",
       "      <td>-0.1</td>\n",
       "    </tr>\n",
       "    <tr>\n",
       "      <th>2</th>\n",
       "      <td>6/13/2016 0:10</td>\n",
       "      <td>9.804</td>\n",
       "      <td>9.609656</td>\n",
       "      <td>0.194344</td>\n",
       "      <td>0.072278</td>\n",
       "      <td>-0.1</td>\n",
       "    </tr>\n",
       "    <tr>\n",
       "      <th>3</th>\n",
       "      <td>6/13/2016 0:15</td>\n",
       "      <td>9.800</td>\n",
       "      <td>9.609596</td>\n",
       "      <td>0.190404</td>\n",
       "      <td>0.068756</td>\n",
       "      <td>-0.1</td>\n",
       "    </tr>\n",
       "    <tr>\n",
       "      <th>4</th>\n",
       "      <td>6/13/2016 0:20</td>\n",
       "      <td>9.793</td>\n",
       "      <td>9.609537</td>\n",
       "      <td>0.183463</td>\n",
       "      <td>0.062804</td>\n",
       "      <td>-0.1</td>\n",
       "    </tr>\n",
       "  </tbody>\n",
       "</table>\n",
       "</div>"
      ],
      "text/plain": [
       "             Date  Total Pressure [m]  Air Pressure [m]  Stage [m]  \\\n",
       "0  6/13/2016 0:00               9.816          9.609775   0.206225   \n",
       "1  6/13/2016 0:05               9.810          9.609715   0.200285   \n",
       "2  6/13/2016 0:10               9.804          9.609656   0.194344   \n",
       "3  6/13/2016 0:15               9.800          9.609596   0.190404   \n",
       "4  6/13/2016 0:20               9.793          9.609537   0.183463   \n",
       "\n",
       "   Discharge [m3/s]  temperature [degrees C]  \n",
       "0          0.083531                     -0.1  \n",
       "1          0.077785                     -0.1  \n",
       "2          0.072278                     -0.1  \n",
       "3          0.068756                     -0.1  \n",
       "4          0.062804                     -0.1  "
      ]
     },
     "execution_count": 39,
     "metadata": {},
     "output_type": "execute_result"
    }
   ],
   "source": [
    "df = pd.read_csv(\"data/discharge_timeseries.csv\")\n",
    "df.head()"
   ]
  },
  {
   "cell_type": "code",
   "execution_count": 40,
   "metadata": {},
   "outputs": [
    {
     "data": {
      "text/html": [
       "<pre style=\"white-space:pre;overflow-x:auto;line-height:normal;font-family:Menlo,'DejaVu Sans Mono',consolas,'Courier New',monospace\"><span style=\"color: #008080; text-decoration-color: #008080; font-weight: bold\">6</span> column names have been cleaned\n",
       "</pre>\n"
      ],
      "text/plain": [
       "\u001b[1;36m6\u001b[0m column names have been cleaned\n"
      ]
     },
     "metadata": {},
     "output_type": "display_data"
    },
    {
     "data": {
      "text/html": [
       "<pre style=\"white-space:pre;overflow-x:auto;line-height:normal;font-family:Menlo,'DejaVu Sans Mono',consolas,'Courier New',monospace\">╭──────────────────────────────────────────────── skimpy summary ─────────────────────────────────────────────────╮\n",
       "│ <span style=\"font-style: italic\">         Data Summary         </span> <span style=\"font-style: italic\">      Data Types       </span>                                                          │\n",
       "│ ┏━━━━━━━━━━━━━━━━━━━┳━━━━━━━━┓ ┏━━━━━━━━━━━━━┳━━━━━━━┓                                                          │\n",
       "│ ┃<span style=\"color: #008080; text-decoration-color: #008080; font-weight: bold\"> dataframe         </span>┃<span style=\"color: #008080; text-decoration-color: #008080; font-weight: bold\"> Values </span>┃ ┃<span style=\"color: #008080; text-decoration-color: #008080; font-weight: bold\"> Column Type </span>┃<span style=\"color: #008080; text-decoration-color: #008080; font-weight: bold\"> Count </span>┃                                                          │\n",
       "│ ┡━━━━━━━━━━━━━━━━━━━╇━━━━━━━━┩ ┡━━━━━━━━━━━━━╇━━━━━━━┩                                                          │\n",
       "│ │ Number of rows    │ 17856  │ │ float64     │ 5     │                                                          │\n",
       "│ │ Number of columns │ 6      │ │ string      │ 1     │                                                          │\n",
       "│ └───────────────────┴────────┘ └─────────────┴───────┘                                                          │\n",
       "│ <span style=\"font-style: italic\">                                                    number                                                    </span>  │\n",
       "│ ┏━━━━━━━━━━━━━━━━━━━━━━━━━━┳━━━━━┳━━━━━━━━━┳━━━━━━━━━━┳━━━━━━━━┳━━━━━━━━━━━┳━━━━━━━━┳━━━━━━━┳━━━━━━━┳━━━━━━━━┓  │\n",
       "│ ┃<span style=\"font-weight: bold\"> column_name              </span>┃<span style=\"font-weight: bold\"> NA  </span>┃<span style=\"font-weight: bold\"> NA %    </span>┃<span style=\"font-weight: bold\"> mean     </span>┃<span style=\"font-weight: bold\"> sd     </span>┃<span style=\"font-weight: bold\"> p0        </span>┃<span style=\"font-weight: bold\"> p25    </span>┃<span style=\"font-weight: bold\"> p75   </span>┃<span style=\"font-weight: bold\"> p100  </span>┃<span style=\"font-weight: bold\"> hist   </span>┃  │\n",
       "│ ┡━━━━━━━━━━━━━━━━━━━━━━━━━━╇━━━━━╇━━━━━━━━━╇━━━━━━━━━━╇━━━━━━━━╇━━━━━━━━━━━╇━━━━━━━━╇━━━━━━━╇━━━━━━━╇━━━━━━━━┩  │\n",
       "│ │ <span style=\"color: #af87ff; text-decoration-color: #af87ff\">total_pressure_m        </span> │ <span style=\"color: #008080; text-decoration-color: #008080\">  0</span> │ <span style=\"color: #008080; text-decoration-color: #008080\">      0</span> │ <span style=\"color: #008080; text-decoration-color: #008080\">     9.9</span> │ <span style=\"color: #008080; text-decoration-color: #008080\">  0.12</span> │ <span style=\"color: #008080; text-decoration-color: #008080\">      9.6</span> │ <span style=\"color: #008080; text-decoration-color: #008080\">   9.8</span> │ <span style=\"color: #008080; text-decoration-color: #008080\">   10</span> │ <span style=\"color: #008080; text-decoration-color: #008080\">   10</span> │ <span style=\"color: #008000; text-decoration-color: #008000\">▁▅█▇▅▂</span> │  │\n",
       "│ │ <span style=\"color: #af87ff; text-decoration-color: #af87ff\">air_pressure_m          </span> │ <span style=\"color: #008080; text-decoration-color: #008080\">  0</span> │ <span style=\"color: #008080; text-decoration-color: #008080\">      0</span> │ <span style=\"color: #008080; text-decoration-color: #008080\">     9.6</span> │ <span style=\"color: #008080; text-decoration-color: #008080\">  0.06</span> │ <span style=\"color: #008080; text-decoration-color: #008080\">      9.5</span> │ <span style=\"color: #008080; text-decoration-color: #008080\">   9.6</span> │ <span style=\"color: #008080; text-decoration-color: #008080\">  9.7</span> │ <span style=\"color: #008080; text-decoration-color: #008080\">  9.7</span> │ <span style=\"color: #008000; text-decoration-color: #008000\">▂▅▄▆█▃</span> │  │\n",
       "│ │ <span style=\"color: #af87ff; text-decoration-color: #af87ff\">stage_m                 </span> │ <span style=\"color: #008080; text-decoration-color: #008080\">  0</span> │ <span style=\"color: #008080; text-decoration-color: #008080\">      0</span> │ <span style=\"color: #008080; text-decoration-color: #008080\">    0.28</span> │ <span style=\"color: #008080; text-decoration-color: #008080\">  0.12</span> │ <span style=\"color: #008080; text-decoration-color: #008080\">  0.00056</span> │ <span style=\"color: #008080; text-decoration-color: #008080\">  0.17</span> │ <span style=\"color: #008080; text-decoration-color: #008080\"> 0.37</span> │ <span style=\"color: #008080; text-decoration-color: #008080\"> 0.56</span> │ <span style=\"color: #008000; text-decoration-color: #008000\">▁█▇▇▆▁</span> │  │\n",
       "│ │ <span style=\"color: #af87ff; text-decoration-color: #af87ff\">discharge_m_3_s         </span> │ <span style=\"color: #008080; text-decoration-color: #008080\">  0</span> │ <span style=\"color: #008080; text-decoration-color: #008080\">      0</span> │ <span style=\"color: #008080; text-decoration-color: #008080\">    0.22</span> │ <span style=\"color: #008080; text-decoration-color: #008080\">  0.19</span> │ <span style=\"color: #008080; text-decoration-color: #008080\">  4.7e-08</span> │ <span style=\"color: #008080; text-decoration-color: #008080\"> 0.055</span> │ <span style=\"color: #008080; text-decoration-color: #008080\"> 0.35</span> │ <span style=\"color: #008080; text-decoration-color: #008080\"> 0.96</span> │ <span style=\"color: #008000; text-decoration-color: #008000\"> █▄▃▁ </span> │  │\n",
       "│ │ <span style=\"color: #af87ff; text-decoration-color: #af87ff\">temperature_degrees_    </span> │ <span style=\"color: #008080; text-decoration-color: #008080\">  8</span> │ <span style=\"color: #008080; text-decoration-color: #008080\">  0.045</span> │ <span style=\"color: #008080; text-decoration-color: #008080\">  -0.034</span> │ <span style=\"color: #008080; text-decoration-color: #008080\"> 0.053</span> │ <span style=\"color: #008080; text-decoration-color: #008080\">     -0.1</span> │ <span style=\"color: #008080; text-decoration-color: #008080\">  -0.1</span> │ <span style=\"color: #008080; text-decoration-color: #008080\">    0</span> │ <span style=\"color: #008080; text-decoration-color: #008080\">  0.2</span> │ <span style=\"color: #008000; text-decoration-color: #008000\">  ▅█  </span> │  │\n",
       "│ └──────────────────────────┴─────┴─────────┴──────────┴────────┴───────────┴────────┴───────┴───────┴────────┘  │\n",
       "│ <span style=\"font-style: italic\">                                                    string                                                    </span>  │\n",
       "│ ┏━━━━━━━━━━━━━━━━━━━━━━━━━━━┳━━━━━━━━━┳━━━━━━━━━━━━┳━━━━━━━━━━━━━━━━━━━━━━━━━━━━━━┳━━━━━━━━━━━━━━━━━━━━━━━━━━┓  │\n",
       "│ ┃<span style=\"font-weight: bold\"> column_name               </span>┃<span style=\"font-weight: bold\"> NA      </span>┃<span style=\"font-weight: bold\"> NA %       </span>┃<span style=\"font-weight: bold\"> words per row                </span>┃<span style=\"font-weight: bold\"> total words              </span>┃  │\n",
       "│ ┡━━━━━━━━━━━━━━━━━━━━━━━━━━━╇━━━━━━━━━╇━━━━━━━━━━━━╇━━━━━━━━━━━━━━━━━━━━━━━━━━━━━━╇━━━━━━━━━━━━━━━━━━━━━━━━━━┩  │\n",
       "│ │ <span style=\"color: #af87ff; text-decoration-color: #af87ff\">date                     </span> │ <span style=\"color: #008080; text-decoration-color: #008080\">      0</span> │ <span style=\"color: #008080; text-decoration-color: #008080\">         0</span> │ <span style=\"color: #008080; text-decoration-color: #008080\">                           2</span> │ <span style=\"color: #008080; text-decoration-color: #008080\">                   36000</span> │  │\n",
       "│ └───────────────────────────┴─────────┴────────────┴──────────────────────────────┴──────────────────────────┘  │\n",
       "╰────────────────────────────────────────────────────── End ──────────────────────────────────────────────────────╯\n",
       "</pre>\n"
      ],
      "text/plain": [
       "╭──────────────────────────────────────────────── skimpy summary ─────────────────────────────────────────────────╮\n",
       "│ \u001b[3m         Data Summary         \u001b[0m \u001b[3m      Data Types       \u001b[0m                                                          │\n",
       "│ ┏━━━━━━━━━━━━━━━━━━━┳━━━━━━━━┓ ┏━━━━━━━━━━━━━┳━━━━━━━┓                                                          │\n",
       "│ ┃\u001b[1;36m \u001b[0m\u001b[1;36mdataframe        \u001b[0m\u001b[1;36m \u001b[0m┃\u001b[1;36m \u001b[0m\u001b[1;36mValues\u001b[0m\u001b[1;36m \u001b[0m┃ ┃\u001b[1;36m \u001b[0m\u001b[1;36mColumn Type\u001b[0m\u001b[1;36m \u001b[0m┃\u001b[1;36m \u001b[0m\u001b[1;36mCount\u001b[0m\u001b[1;36m \u001b[0m┃                                                          │\n",
       "│ ┡━━━━━━━━━━━━━━━━━━━╇━━━━━━━━┩ ┡━━━━━━━━━━━━━╇━━━━━━━┩                                                          │\n",
       "│ │ Number of rows    │ 17856  │ │ float64     │ 5     │                                                          │\n",
       "│ │ Number of columns │ 6      │ │ string      │ 1     │                                                          │\n",
       "│ └───────────────────┴────────┘ └─────────────┴───────┘                                                          │\n",
       "│ \u001b[3m                                                    number                                                    \u001b[0m  │\n",
       "│ ┏━━━━━━━━━━━━━━━━━━━━━━━━━━┳━━━━━┳━━━━━━━━━┳━━━━━━━━━━┳━━━━━━━━┳━━━━━━━━━━━┳━━━━━━━━┳━━━━━━━┳━━━━━━━┳━━━━━━━━┓  │\n",
       "│ ┃\u001b[1m \u001b[0m\u001b[1mcolumn_name             \u001b[0m\u001b[1m \u001b[0m┃\u001b[1m \u001b[0m\u001b[1mNA \u001b[0m\u001b[1m \u001b[0m┃\u001b[1m \u001b[0m\u001b[1mNA %   \u001b[0m\u001b[1m \u001b[0m┃\u001b[1m \u001b[0m\u001b[1mmean    \u001b[0m\u001b[1m \u001b[0m┃\u001b[1m \u001b[0m\u001b[1msd    \u001b[0m\u001b[1m \u001b[0m┃\u001b[1m \u001b[0m\u001b[1mp0       \u001b[0m\u001b[1m \u001b[0m┃\u001b[1m \u001b[0m\u001b[1mp25   \u001b[0m\u001b[1m \u001b[0m┃\u001b[1m \u001b[0m\u001b[1mp75  \u001b[0m\u001b[1m \u001b[0m┃\u001b[1m \u001b[0m\u001b[1mp100 \u001b[0m\u001b[1m \u001b[0m┃\u001b[1m \u001b[0m\u001b[1mhist  \u001b[0m\u001b[1m \u001b[0m┃  │\n",
       "│ ┡━━━━━━━━━━━━━━━━━━━━━━━━━━╇━━━━━╇━━━━━━━━━╇━━━━━━━━━━╇━━━━━━━━╇━━━━━━━━━━━╇━━━━━━━━╇━━━━━━━╇━━━━━━━╇━━━━━━━━┩  │\n",
       "│ │ \u001b[38;5;141mtotal_pressure_m        \u001b[0m │ \u001b[36m  0\u001b[0m │ \u001b[36m      0\u001b[0m │ \u001b[36m     9.9\u001b[0m │ \u001b[36m  0.12\u001b[0m │ \u001b[36m      9.6\u001b[0m │ \u001b[36m   9.8\u001b[0m │ \u001b[36m   10\u001b[0m │ \u001b[36m   10\u001b[0m │ \u001b[32m▁▅█▇▅▂\u001b[0m │  │\n",
       "│ │ \u001b[38;5;141mair_pressure_m          \u001b[0m │ \u001b[36m  0\u001b[0m │ \u001b[36m      0\u001b[0m │ \u001b[36m     9.6\u001b[0m │ \u001b[36m  0.06\u001b[0m │ \u001b[36m      9.5\u001b[0m │ \u001b[36m   9.6\u001b[0m │ \u001b[36m  9.7\u001b[0m │ \u001b[36m  9.7\u001b[0m │ \u001b[32m▂▅▄▆█▃\u001b[0m │  │\n",
       "│ │ \u001b[38;5;141mstage_m                 \u001b[0m │ \u001b[36m  0\u001b[0m │ \u001b[36m      0\u001b[0m │ \u001b[36m    0.28\u001b[0m │ \u001b[36m  0.12\u001b[0m │ \u001b[36m  0.00056\u001b[0m │ \u001b[36m  0.17\u001b[0m │ \u001b[36m 0.37\u001b[0m │ \u001b[36m 0.56\u001b[0m │ \u001b[32m▁█▇▇▆▁\u001b[0m │  │\n",
       "│ │ \u001b[38;5;141mdischarge_m_3_s         \u001b[0m │ \u001b[36m  0\u001b[0m │ \u001b[36m      0\u001b[0m │ \u001b[36m    0.22\u001b[0m │ \u001b[36m  0.19\u001b[0m │ \u001b[36m  4.7e-08\u001b[0m │ \u001b[36m 0.055\u001b[0m │ \u001b[36m 0.35\u001b[0m │ \u001b[36m 0.96\u001b[0m │ \u001b[32m █▄▃▁ \u001b[0m │  │\n",
       "│ │ \u001b[38;5;141mtemperature_degrees_    \u001b[0m │ \u001b[36m  8\u001b[0m │ \u001b[36m  0.045\u001b[0m │ \u001b[36m  -0.034\u001b[0m │ \u001b[36m 0.053\u001b[0m │ \u001b[36m     -0.1\u001b[0m │ \u001b[36m  -0.1\u001b[0m │ \u001b[36m    0\u001b[0m │ \u001b[36m  0.2\u001b[0m │ \u001b[32m  ▅█  \u001b[0m │  │\n",
       "│ └──────────────────────────┴─────┴─────────┴──────────┴────────┴───────────┴────────┴───────┴───────┴────────┘  │\n",
       "│ \u001b[3m                                                    string                                                    \u001b[0m  │\n",
       "│ ┏━━━━━━━━━━━━━━━━━━━━━━━━━━━┳━━━━━━━━━┳━━━━━━━━━━━━┳━━━━━━━━━━━━━━━━━━━━━━━━━━━━━━┳━━━━━━━━━━━━━━━━━━━━━━━━━━┓  │\n",
       "│ ┃\u001b[1m \u001b[0m\u001b[1mcolumn_name              \u001b[0m\u001b[1m \u001b[0m┃\u001b[1m \u001b[0m\u001b[1mNA     \u001b[0m\u001b[1m \u001b[0m┃\u001b[1m \u001b[0m\u001b[1mNA %      \u001b[0m\u001b[1m \u001b[0m┃\u001b[1m \u001b[0m\u001b[1mwords per row               \u001b[0m\u001b[1m \u001b[0m┃\u001b[1m \u001b[0m\u001b[1mtotal words             \u001b[0m\u001b[1m \u001b[0m┃  │\n",
       "│ ┡━━━━━━━━━━━━━━━━━━━━━━━━━━━╇━━━━━━━━━╇━━━━━━━━━━━━╇━━━━━━━━━━━━━━━━━━━━━━━━━━━━━━╇━━━━━━━━━━━━━━━━━━━━━━━━━━┩  │\n",
       "│ │ \u001b[38;5;141mdate                     \u001b[0m │ \u001b[36m      0\u001b[0m │ \u001b[36m         0\u001b[0m │ \u001b[36m                           2\u001b[0m │ \u001b[36m                   36000\u001b[0m │  │\n",
       "│ └───────────────────────────┴─────────┴────────────┴──────────────────────────────┴──────────────────────────┘  │\n",
       "╰────────────────────────────────────────────────────── End ──────────────────────────────────────────────────────╯\n"
      ]
     },
     "metadata": {},
     "output_type": "display_data"
    }
   ],
   "source": [
    "clean_df = skimpy.clean_columns(df)\n",
    "skimpy.skim(clean_df)"
   ]
  },
  {
   "cell_type": "code",
   "execution_count": 41,
   "metadata": {},
   "outputs": [
    {
     "data": {
      "text/html": [
       "<pre style=\"white-space:pre;overflow-x:auto;line-height:normal;font-family:Menlo,'DejaVu Sans Mono',consolas,'Courier New',monospace\">╭──────────────────────────────────────────────── skimpy summary ─────────────────────────────────────────────────╮\n",
       "│ <span style=\"font-style: italic\">         Data Summary         </span> <span style=\"font-style: italic\">      Data Types       </span>                                                          │\n",
       "│ ┏━━━━━━━━━━━━━━━━━━━┳━━━━━━━━┓ ┏━━━━━━━━━━━━━┳━━━━━━━┓                                                          │\n",
       "│ ┃<span style=\"color: #008080; text-decoration-color: #008080; font-weight: bold\"> dataframe         </span>┃<span style=\"color: #008080; text-decoration-color: #008080; font-weight: bold\"> Values </span>┃ ┃<span style=\"color: #008080; text-decoration-color: #008080; font-weight: bold\"> Column Type </span>┃<span style=\"color: #008080; text-decoration-color: #008080; font-weight: bold\"> Count </span>┃                                                          │\n",
       "│ ┡━━━━━━━━━━━━━━━━━━━╇━━━━━━━━┩ ┡━━━━━━━━━━━━━╇━━━━━━━┩                                                          │\n",
       "│ │ Number of rows    │ 17856  │ │ float64     │ 5     │                                                          │\n",
       "│ │ Number of columns │ 6      │ │ datetime64  │ 1     │                                                          │\n",
       "│ └───────────────────┴────────┘ └─────────────┴───────┘                                                          │\n",
       "│ <span style=\"font-style: italic\">                                                    number                                                    </span>  │\n",
       "│ ┏━━━━━━━━━━━━━━━━━━━━━━━━━━┳━━━━━┳━━━━━━━━━┳━━━━━━━━━━┳━━━━━━━━┳━━━━━━━━━━━┳━━━━━━━━┳━━━━━━━┳━━━━━━━┳━━━━━━━━┓  │\n",
       "│ ┃<span style=\"font-weight: bold\"> column_name              </span>┃<span style=\"font-weight: bold\"> NA  </span>┃<span style=\"font-weight: bold\"> NA %    </span>┃<span style=\"font-weight: bold\"> mean     </span>┃<span style=\"font-weight: bold\"> sd     </span>┃<span style=\"font-weight: bold\"> p0        </span>┃<span style=\"font-weight: bold\"> p25    </span>┃<span style=\"font-weight: bold\"> p75   </span>┃<span style=\"font-weight: bold\"> p100  </span>┃<span style=\"font-weight: bold\"> hist   </span>┃  │\n",
       "│ ┡━━━━━━━━━━━━━━━━━━━━━━━━━━╇━━━━━╇━━━━━━━━━╇━━━━━━━━━━╇━━━━━━━━╇━━━━━━━━━━━╇━━━━━━━━╇━━━━━━━╇━━━━━━━╇━━━━━━━━┩  │\n",
       "│ │ <span style=\"color: #af87ff; text-decoration-color: #af87ff\">total_pressure_m        </span> │ <span style=\"color: #008080; text-decoration-color: #008080\">  0</span> │ <span style=\"color: #008080; text-decoration-color: #008080\">      0</span> │ <span style=\"color: #008080; text-decoration-color: #008080\">     9.9</span> │ <span style=\"color: #008080; text-decoration-color: #008080\">  0.12</span> │ <span style=\"color: #008080; text-decoration-color: #008080\">      9.6</span> │ <span style=\"color: #008080; text-decoration-color: #008080\">   9.8</span> │ <span style=\"color: #008080; text-decoration-color: #008080\">   10</span> │ <span style=\"color: #008080; text-decoration-color: #008080\">   10</span> │ <span style=\"color: #008000; text-decoration-color: #008000\">▁▅█▇▅▂</span> │  │\n",
       "│ │ <span style=\"color: #af87ff; text-decoration-color: #af87ff\">air_pressure_m          </span> │ <span style=\"color: #008080; text-decoration-color: #008080\">  0</span> │ <span style=\"color: #008080; text-decoration-color: #008080\">      0</span> │ <span style=\"color: #008080; text-decoration-color: #008080\">     9.6</span> │ <span style=\"color: #008080; text-decoration-color: #008080\">  0.06</span> │ <span style=\"color: #008080; text-decoration-color: #008080\">      9.5</span> │ <span style=\"color: #008080; text-decoration-color: #008080\">   9.6</span> │ <span style=\"color: #008080; text-decoration-color: #008080\">  9.7</span> │ <span style=\"color: #008080; text-decoration-color: #008080\">  9.7</span> │ <span style=\"color: #008000; text-decoration-color: #008000\">▂▅▄▆█▃</span> │  │\n",
       "│ │ <span style=\"color: #af87ff; text-decoration-color: #af87ff\">stage_m                 </span> │ <span style=\"color: #008080; text-decoration-color: #008080\">  0</span> │ <span style=\"color: #008080; text-decoration-color: #008080\">      0</span> │ <span style=\"color: #008080; text-decoration-color: #008080\">    0.28</span> │ <span style=\"color: #008080; text-decoration-color: #008080\">  0.12</span> │ <span style=\"color: #008080; text-decoration-color: #008080\">  0.00056</span> │ <span style=\"color: #008080; text-decoration-color: #008080\">  0.17</span> │ <span style=\"color: #008080; text-decoration-color: #008080\"> 0.37</span> │ <span style=\"color: #008080; text-decoration-color: #008080\"> 0.56</span> │ <span style=\"color: #008000; text-decoration-color: #008000\">▁█▇▇▆▁</span> │  │\n",
       "│ │ <span style=\"color: #af87ff; text-decoration-color: #af87ff\">discharge_m_3_s         </span> │ <span style=\"color: #008080; text-decoration-color: #008080\">  0</span> │ <span style=\"color: #008080; text-decoration-color: #008080\">      0</span> │ <span style=\"color: #008080; text-decoration-color: #008080\">    0.22</span> │ <span style=\"color: #008080; text-decoration-color: #008080\">  0.19</span> │ <span style=\"color: #008080; text-decoration-color: #008080\">  4.7e-08</span> │ <span style=\"color: #008080; text-decoration-color: #008080\"> 0.055</span> │ <span style=\"color: #008080; text-decoration-color: #008080\"> 0.35</span> │ <span style=\"color: #008080; text-decoration-color: #008080\"> 0.96</span> │ <span style=\"color: #008000; text-decoration-color: #008000\"> █▄▃▁ </span> │  │\n",
       "│ │ <span style=\"color: #af87ff; text-decoration-color: #af87ff\">temperature_degrees_    </span> │ <span style=\"color: #008080; text-decoration-color: #008080\">  8</span> │ <span style=\"color: #008080; text-decoration-color: #008080\">  0.045</span> │ <span style=\"color: #008080; text-decoration-color: #008080\">  -0.034</span> │ <span style=\"color: #008080; text-decoration-color: #008080\"> 0.053</span> │ <span style=\"color: #008080; text-decoration-color: #008080\">     -0.1</span> │ <span style=\"color: #008080; text-decoration-color: #008080\">  -0.1</span> │ <span style=\"color: #008080; text-decoration-color: #008080\">    0</span> │ <span style=\"color: #008080; text-decoration-color: #008080\">  0.2</span> │ <span style=\"color: #008000; text-decoration-color: #008000\">  ▅█  </span> │  │\n",
       "│ └──────────────────────────┴─────┴─────────┴──────────┴────────┴───────────┴────────┴───────┴───────┴────────┘  │\n",
       "│ <span style=\"font-style: italic\">                                                   datetime                                                   </span>  │\n",
       "│ ┏━━━━━━━━━━━━━━━━━━━━┳━━━━━━━┳━━━━━━━━━━┳━━━━━━━━━━━━━━━━━━┳━━━━━━━━━━━━━━━━━━━━━━━━━━━━━━━━┳━━━━━━━━━━━━━━━━┓  │\n",
       "│ ┃<span style=\"font-weight: bold\"> column_name        </span>┃<span style=\"font-weight: bold\"> NA    </span>┃<span style=\"font-weight: bold\"> NA %     </span>┃<span style=\"font-weight: bold\"> first            </span>┃<span style=\"font-weight: bold\"> last                           </span>┃<span style=\"font-weight: bold\"> frequency      </span>┃  │\n",
       "│ ┡━━━━━━━━━━━━━━━━━━━━╇━━━━━━━╇━━━━━━━━━━╇━━━━━━━━━━━━━━━━━━╇━━━━━━━━━━━━━━━━━━━━━━━━━━━━━━━━╇━━━━━━━━━━━━━━━━┩  │\n",
       "│ │ <span style=\"color: #af87ff; text-decoration-color: #af87ff\">date              </span> │ <span style=\"color: #008080; text-decoration-color: #008080\">    0</span> │ <span style=\"color: #008080; text-decoration-color: #008080\">       0</span> │ <span style=\"color: #800000; text-decoration-color: #800000\">   2016-06-13   </span> │ <span style=\"color: #800000; text-decoration-color: #800000\">     2016-08-13 23:55:00      </span> │ <span style=\"color: #af87ff; text-decoration-color: #af87ff\">5T            </span> │  │\n",
       "│ └────────────────────┴───────┴──────────┴──────────────────┴────────────────────────────────┴────────────────┘  │\n",
       "╰────────────────────────────────────────────────────── End ──────────────────────────────────────────────────────╯\n",
       "</pre>\n"
      ],
      "text/plain": [
       "╭──────────────────────────────────────────────── skimpy summary ─────────────────────────────────────────────────╮\n",
       "│ \u001b[3m         Data Summary         \u001b[0m \u001b[3m      Data Types       \u001b[0m                                                          │\n",
       "│ ┏━━━━━━━━━━━━━━━━━━━┳━━━━━━━━┓ ┏━━━━━━━━━━━━━┳━━━━━━━┓                                                          │\n",
       "│ ┃\u001b[1;36m \u001b[0m\u001b[1;36mdataframe        \u001b[0m\u001b[1;36m \u001b[0m┃\u001b[1;36m \u001b[0m\u001b[1;36mValues\u001b[0m\u001b[1;36m \u001b[0m┃ ┃\u001b[1;36m \u001b[0m\u001b[1;36mColumn Type\u001b[0m\u001b[1;36m \u001b[0m┃\u001b[1;36m \u001b[0m\u001b[1;36mCount\u001b[0m\u001b[1;36m \u001b[0m┃                                                          │\n",
       "│ ┡━━━━━━━━━━━━━━━━━━━╇━━━━━━━━┩ ┡━━━━━━━━━━━━━╇━━━━━━━┩                                                          │\n",
       "│ │ Number of rows    │ 17856  │ │ float64     │ 5     │                                                          │\n",
       "│ │ Number of columns │ 6      │ │ datetime64  │ 1     │                                                          │\n",
       "│ └───────────────────┴────────┘ └─────────────┴───────┘                                                          │\n",
       "│ \u001b[3m                                                    number                                                    \u001b[0m  │\n",
       "│ ┏━━━━━━━━━━━━━━━━━━━━━━━━━━┳━━━━━┳━━━━━━━━━┳━━━━━━━━━━┳━━━━━━━━┳━━━━━━━━━━━┳━━━━━━━━┳━━━━━━━┳━━━━━━━┳━━━━━━━━┓  │\n",
       "│ ┃\u001b[1m \u001b[0m\u001b[1mcolumn_name             \u001b[0m\u001b[1m \u001b[0m┃\u001b[1m \u001b[0m\u001b[1mNA \u001b[0m\u001b[1m \u001b[0m┃\u001b[1m \u001b[0m\u001b[1mNA %   \u001b[0m\u001b[1m \u001b[0m┃\u001b[1m \u001b[0m\u001b[1mmean    \u001b[0m\u001b[1m \u001b[0m┃\u001b[1m \u001b[0m\u001b[1msd    \u001b[0m\u001b[1m \u001b[0m┃\u001b[1m \u001b[0m\u001b[1mp0       \u001b[0m\u001b[1m \u001b[0m┃\u001b[1m \u001b[0m\u001b[1mp25   \u001b[0m\u001b[1m \u001b[0m┃\u001b[1m \u001b[0m\u001b[1mp75  \u001b[0m\u001b[1m \u001b[0m┃\u001b[1m \u001b[0m\u001b[1mp100 \u001b[0m\u001b[1m \u001b[0m┃\u001b[1m \u001b[0m\u001b[1mhist  \u001b[0m\u001b[1m \u001b[0m┃  │\n",
       "│ ┡━━━━━━━━━━━━━━━━━━━━━━━━━━╇━━━━━╇━━━━━━━━━╇━━━━━━━━━━╇━━━━━━━━╇━━━━━━━━━━━╇━━━━━━━━╇━━━━━━━╇━━━━━━━╇━━━━━━━━┩  │\n",
       "│ │ \u001b[38;5;141mtotal_pressure_m        \u001b[0m │ \u001b[36m  0\u001b[0m │ \u001b[36m      0\u001b[0m │ \u001b[36m     9.9\u001b[0m │ \u001b[36m  0.12\u001b[0m │ \u001b[36m      9.6\u001b[0m │ \u001b[36m   9.8\u001b[0m │ \u001b[36m   10\u001b[0m │ \u001b[36m   10\u001b[0m │ \u001b[32m▁▅█▇▅▂\u001b[0m │  │\n",
       "│ │ \u001b[38;5;141mair_pressure_m          \u001b[0m │ \u001b[36m  0\u001b[0m │ \u001b[36m      0\u001b[0m │ \u001b[36m     9.6\u001b[0m │ \u001b[36m  0.06\u001b[0m │ \u001b[36m      9.5\u001b[0m │ \u001b[36m   9.6\u001b[0m │ \u001b[36m  9.7\u001b[0m │ \u001b[36m  9.7\u001b[0m │ \u001b[32m▂▅▄▆█▃\u001b[0m │  │\n",
       "│ │ \u001b[38;5;141mstage_m                 \u001b[0m │ \u001b[36m  0\u001b[0m │ \u001b[36m      0\u001b[0m │ \u001b[36m    0.28\u001b[0m │ \u001b[36m  0.12\u001b[0m │ \u001b[36m  0.00056\u001b[0m │ \u001b[36m  0.17\u001b[0m │ \u001b[36m 0.37\u001b[0m │ \u001b[36m 0.56\u001b[0m │ \u001b[32m▁█▇▇▆▁\u001b[0m │  │\n",
       "│ │ \u001b[38;5;141mdischarge_m_3_s         \u001b[0m │ \u001b[36m  0\u001b[0m │ \u001b[36m      0\u001b[0m │ \u001b[36m    0.22\u001b[0m │ \u001b[36m  0.19\u001b[0m │ \u001b[36m  4.7e-08\u001b[0m │ \u001b[36m 0.055\u001b[0m │ \u001b[36m 0.35\u001b[0m │ \u001b[36m 0.96\u001b[0m │ \u001b[32m █▄▃▁ \u001b[0m │  │\n",
       "│ │ \u001b[38;5;141mtemperature_degrees_    \u001b[0m │ \u001b[36m  8\u001b[0m │ \u001b[36m  0.045\u001b[0m │ \u001b[36m  -0.034\u001b[0m │ \u001b[36m 0.053\u001b[0m │ \u001b[36m     -0.1\u001b[0m │ \u001b[36m  -0.1\u001b[0m │ \u001b[36m    0\u001b[0m │ \u001b[36m  0.2\u001b[0m │ \u001b[32m  ▅█  \u001b[0m │  │\n",
       "│ └──────────────────────────┴─────┴─────────┴──────────┴────────┴───────────┴────────┴───────┴───────┴────────┘  │\n",
       "│ \u001b[3m                                                   datetime                                                   \u001b[0m  │\n",
       "│ ┏━━━━━━━━━━━━━━━━━━━━┳━━━━━━━┳━━━━━━━━━━┳━━━━━━━━━━━━━━━━━━┳━━━━━━━━━━━━━━━━━━━━━━━━━━━━━━━━┳━━━━━━━━━━━━━━━━┓  │\n",
       "│ ┃\u001b[1m \u001b[0m\u001b[1mcolumn_name       \u001b[0m\u001b[1m \u001b[0m┃\u001b[1m \u001b[0m\u001b[1mNA   \u001b[0m\u001b[1m \u001b[0m┃\u001b[1m \u001b[0m\u001b[1mNA %    \u001b[0m\u001b[1m \u001b[0m┃\u001b[1m \u001b[0m\u001b[1mfirst           \u001b[0m\u001b[1m \u001b[0m┃\u001b[1m \u001b[0m\u001b[1mlast                          \u001b[0m\u001b[1m \u001b[0m┃\u001b[1m \u001b[0m\u001b[1mfrequency     \u001b[0m\u001b[1m \u001b[0m┃  │\n",
       "│ ┡━━━━━━━━━━━━━━━━━━━━╇━━━━━━━╇━━━━━━━━━━╇━━━━━━━━━━━━━━━━━━╇━━━━━━━━━━━━━━━━━━━━━━━━━━━━━━━━╇━━━━━━━━━━━━━━━━┩  │\n",
       "│ │ \u001b[38;5;141mdate              \u001b[0m │ \u001b[36m    0\u001b[0m │ \u001b[36m       0\u001b[0m │ \u001b[31m   2016-06-13   \u001b[0m │ \u001b[31m     2016-08-13 23:55:00      \u001b[0m │ \u001b[38;5;141m5T            \u001b[0m │  │\n",
       "│ └────────────────────┴───────┴──────────┴──────────────────┴────────────────────────────────┴────────────────┘  │\n",
       "╰────────────────────────────────────────────────────── End ──────────────────────────────────────────────────────╯\n"
      ]
     },
     "metadata": {},
     "output_type": "display_data"
    }
   ],
   "source": [
    "clean_df['date'] = pd.to_datetime(clean_df['date'])\n",
    "skimpy.skim(clean_df)"
   ]
  },
  {
   "cell_type": "code",
   "execution_count": 42,
   "metadata": {},
   "outputs": [
    {
     "data": {
      "text/html": [
       "<div>\n",
       "<style scoped>\n",
       "    .dataframe tbody tr th:only-of-type {\n",
       "        vertical-align: middle;\n",
       "    }\n",
       "\n",
       "    .dataframe tbody tr th {\n",
       "        vertical-align: top;\n",
       "    }\n",
       "\n",
       "    .dataframe thead th {\n",
       "        text-align: right;\n",
       "    }\n",
       "</style>\n",
       "<table border=\"1\" class=\"dataframe\">\n",
       "  <thead>\n",
       "    <tr style=\"text-align: right;\">\n",
       "      <th></th>\n",
       "      <th>datetime</th>\n",
       "      <th>total_pressure_m</th>\n",
       "      <th>air_pressure_m</th>\n",
       "      <th>stage_m</th>\n",
       "      <th>discharge_m_3_s</th>\n",
       "      <th>temperature_degrees_c</th>\n",
       "      <th>date</th>\n",
       "    </tr>\n",
       "  </thead>\n",
       "  <tbody>\n",
       "    <tr>\n",
       "      <th>0</th>\n",
       "      <td>2016-06-13 00:00:00</td>\n",
       "      <td>9.816</td>\n",
       "      <td>9.609775</td>\n",
       "      <td>0.206225</td>\n",
       "      <td>0.083531</td>\n",
       "      <td>-0.1</td>\n",
       "      <td>2016-06-13</td>\n",
       "    </tr>\n",
       "    <tr>\n",
       "      <th>1</th>\n",
       "      <td>2016-06-13 00:05:00</td>\n",
       "      <td>9.810</td>\n",
       "      <td>9.609715</td>\n",
       "      <td>0.200285</td>\n",
       "      <td>0.077785</td>\n",
       "      <td>-0.1</td>\n",
       "      <td>2016-06-13</td>\n",
       "    </tr>\n",
       "    <tr>\n",
       "      <th>2</th>\n",
       "      <td>2016-06-13 00:10:00</td>\n",
       "      <td>9.804</td>\n",
       "      <td>9.609656</td>\n",
       "      <td>0.194344</td>\n",
       "      <td>0.072278</td>\n",
       "      <td>-0.1</td>\n",
       "      <td>2016-06-13</td>\n",
       "    </tr>\n",
       "    <tr>\n",
       "      <th>3</th>\n",
       "      <td>2016-06-13 00:15:00</td>\n",
       "      <td>9.800</td>\n",
       "      <td>9.609596</td>\n",
       "      <td>0.190404</td>\n",
       "      <td>0.068756</td>\n",
       "      <td>-0.1</td>\n",
       "      <td>2016-06-13</td>\n",
       "    </tr>\n",
       "    <tr>\n",
       "      <th>4</th>\n",
       "      <td>2016-06-13 00:20:00</td>\n",
       "      <td>9.793</td>\n",
       "      <td>9.609537</td>\n",
       "      <td>0.183463</td>\n",
       "      <td>0.062804</td>\n",
       "      <td>-0.1</td>\n",
       "      <td>2016-06-13</td>\n",
       "    </tr>\n",
       "  </tbody>\n",
       "</table>\n",
       "</div>"
      ],
      "text/plain": [
       "             datetime  total_pressure_m  air_pressure_m   stage_m  \\\n",
       "0 2016-06-13 00:00:00             9.816        9.609775  0.206225   \n",
       "1 2016-06-13 00:05:00             9.810        9.609715  0.200285   \n",
       "2 2016-06-13 00:10:00             9.804        9.609656  0.194344   \n",
       "3 2016-06-13 00:15:00             9.800        9.609596  0.190404   \n",
       "4 2016-06-13 00:20:00             9.793        9.609537  0.183463   \n",
       "\n",
       "   discharge_m_3_s  temperature_degrees_c        date  \n",
       "0         0.083531                   -0.1  2016-06-13  \n",
       "1         0.077785                   -0.1  2016-06-13  \n",
       "2         0.072278                   -0.1  2016-06-13  \n",
       "3         0.068756                   -0.1  2016-06-13  \n",
       "4         0.062804                   -0.1  2016-06-13  "
      ]
     },
     "execution_count": 42,
     "metadata": {},
     "output_type": "execute_result"
    }
   ],
   "source": [
    "clean_df = clean_df.rename(columns = {\"date\":\"datetime\"})\n",
    "clean_df[\"date\"] = clean_df[\"datetime\"].dt.date\n",
    "\n",
    "clean_df.head()"
   ]
  },
  {
   "cell_type": "code",
   "execution_count": 45,
   "metadata": {},
   "outputs": [
    {
     "data": {
      "text/html": [
       "<div>\n",
       "<style scoped>\n",
       "    .dataframe tbody tr th:only-of-type {\n",
       "        vertical-align: middle;\n",
       "    }\n",
       "\n",
       "    .dataframe tbody tr th {\n",
       "        vertical-align: top;\n",
       "    }\n",
       "\n",
       "    .dataframe thead th {\n",
       "        text-align: right;\n",
       "    }\n",
       "</style>\n",
       "<table border=\"1\" class=\"dataframe\">\n",
       "  <thead>\n",
       "    <tr style=\"text-align: right;\">\n",
       "      <th></th>\n",
       "      <th>date</th>\n",
       "      <th>total_pressure_m</th>\n",
       "      <th>air_pressure_m</th>\n",
       "      <th>stage_m</th>\n",
       "      <th>discharge_m_3_s</th>\n",
       "      <th>temperature_degrees_c</th>\n",
       "    </tr>\n",
       "  </thead>\n",
       "  <tbody>\n",
       "    <tr>\n",
       "      <th>0</th>\n",
       "      <td>2016-06-13</td>\n",
       "      <td>9.917399</td>\n",
       "      <td>9.613590</td>\n",
       "      <td>0.303809</td>\n",
       "      <td>0.326388</td>\n",
       "      <td>0.012500</td>\n",
       "    </tr>\n",
       "    <tr>\n",
       "      <th>1</th>\n",
       "      <td>2016-06-14</td>\n",
       "      <td>9.934229</td>\n",
       "      <td>9.638747</td>\n",
       "      <td>0.295482</td>\n",
       "      <td>0.239999</td>\n",
       "      <td>0.009028</td>\n",
       "    </tr>\n",
       "    <tr>\n",
       "      <th>2</th>\n",
       "      <td>2016-06-15</td>\n",
       "      <td>9.864646</td>\n",
       "      <td>9.657088</td>\n",
       "      <td>0.207558</td>\n",
       "      <td>0.121094</td>\n",
       "      <td>-0.001042</td>\n",
       "    </tr>\n",
       "    <tr>\n",
       "      <th>3</th>\n",
       "      <td>2016-06-16</td>\n",
       "      <td>9.754483</td>\n",
       "      <td>9.581531</td>\n",
       "      <td>0.172951</td>\n",
       "      <td>0.079615</td>\n",
       "      <td>-0.004167</td>\n",
       "    </tr>\n",
       "    <tr>\n",
       "      <th>4</th>\n",
       "      <td>2016-06-17</td>\n",
       "      <td>9.678281</td>\n",
       "      <td>9.549809</td>\n",
       "      <td>0.128472</td>\n",
       "      <td>0.029489</td>\n",
       "      <td>-0.039583</td>\n",
       "    </tr>\n",
       "  </tbody>\n",
       "</table>\n",
       "</div>"
      ],
      "text/plain": [
       "         date  total_pressure_m  air_pressure_m   stage_m  discharge_m_3_s  \\\n",
       "0  2016-06-13          9.917399        9.613590  0.303809         0.326388   \n",
       "1  2016-06-14          9.934229        9.638747  0.295482         0.239999   \n",
       "2  2016-06-15          9.864646        9.657088  0.207558         0.121094   \n",
       "3  2016-06-16          9.754483        9.581531  0.172951         0.079615   \n",
       "4  2016-06-17          9.678281        9.549809  0.128472         0.029489   \n",
       "\n",
       "   temperature_degrees_c  \n",
       "0               0.012500  \n",
       "1               0.009028  \n",
       "2              -0.001042  \n",
       "3              -0.004167  \n",
       "4              -0.039583  "
      ]
     },
     "execution_count": 45,
     "metadata": {},
     "output_type": "execute_result"
    }
   ],
   "source": [
    "daily_flow = clean_df.groupby(\"date\", as_index = False).mean(numeric_only = True)\n",
    "daily_flow.head()"
   ]
  },
  {
   "cell_type": "code",
   "execution_count": null,
   "metadata": {},
   "outputs": [],
   "source": [
    "var = 'discharge_m_3_s'\n",
    "var_labs = {'discharge_m_3_s': 'Total Discharge'}\n",
    "\n",
    "fig, ax = plt.subplots(figsize=(7, 7))\n",
    "plt.plot(daily_flow['date'], daily_flow[var])\n",
    "plt.xticks(rotation = 45)\n",
    "ax.set_ylabel(var_labs.get(var))"
   ]
  },
  {
   "cell_type": "code",
   "execution_count": 50,
   "metadata": {},
   "outputs": [
    {
     "data": {
      "image/png": "[encoded data removed]",
      "text/plain": [
       "<Figure size 700x700 with 1 Axes>"
      ]
     },
     "metadata": {},
     "output_type": "display_data"
    }
   ],
   "source": [
    "myplot(daily_flow, \"air_pressure_m\")"
   ]
  },
  {
   "cell_type": "code",
   "execution_count": null,
   "metadata": {},
   "outputs": [],
   "source": []
  }
 ],
 "metadata": {
  "kernelspec": {
   "display_name": "scomp",
   "language": "python",
   "name": "python3"
  },
  "language_info": {
   "codemirror_mode": {
    "name": "ipython",
    "version": 3
   },
   "file_extension": ".py",
   "mimetype": "text/x-python",
   "name": "python",
   "nbconvert_exporter": "python",
   "pygments_lexer": "ipython3",
   "version": "3.9.16"
  },
  "orig_nbformat": 4
 },
 "nbformat": 4,
 "nbformat_minor": 2
}
